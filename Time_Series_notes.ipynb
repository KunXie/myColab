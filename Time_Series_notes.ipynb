{
  "nbformat": 4,
  "nbformat_minor": 0,
  "metadata": {
    "colab": {
      "name": "Time_Series_notes.ipynb",
      "provenance": [],
      "collapsed_sections": [],
      "authorship_tag": "ABX9TyPktaksHpiRBhQDjlEevAki",
      "include_colab_link": true
    },
    "kernelspec": {
      "name": "python3",
      "display_name": "Python 3"
    }
  },
  "cells": [
    {
      "cell_type": "markdown",
      "metadata": {
        "id": "view-in-github",
        "colab_type": "text"
      },
      "source": [
        "<a href=\"https://colab.research.google.com/github/KunXie/myColab/blob/master/Time_Series_notes.ipynb\" target=\"_parent\"><img src=\"https://colab.research.google.com/assets/colab-badge.svg\" alt=\"Open In Colab\"/></a>"
      ]
    },
    {
      "cell_type": "markdown",
      "metadata": {
        "id": "23cMATJYe95Z",
        "colab_type": "text"
      },
      "source": [
        "References: https://courses.analyticsvidhya.com/courses/creating-time-series-forecast-using-python/"
      ]
    },
    {
      "cell_type": "markdown",
      "metadata": {
        "id": "CSJXtBwrfQyP",
        "colab_type": "text"
      },
      "source": [
        "# Time Series Forecasting using Python\n",
        "## Introduction to Time Series\n",
        "\n",
        "Definition: A series of data points collected in time order is known as a time series. 数值必须与时间有关。\n",
        "\n",
        "Be able to differentiate between a Time Series and a non Time Series data\n",
        "\n",
        "## Components of a Time Series\n",
        "\n",
        "1. **Trend**: Trend is a general direction in which something is developing or changing.\n",
        "\n",
        "2. **Seasonality**: the pattern is repeating at regular time interval\n",
        "\n",
        "Difference between a time series and regression problem:\n",
        "* a time series is time dependent but the basic assumption of a linear regression model that the observations are independent\n",
        "* most Time Series have some form of seasonality trends\n",
        "\n",
        "predicting a time series using regression techniques is not a good approach"
      ]
    },
    {
      "cell_type": "markdown",
      "metadata": {
        "id": "kGegfDV6BDCu",
        "colab_type": "text"
      },
      "source": [
        "## Problem Statements\n",
        "\n",
        "Unicorn Investors wants to make an investment in a new form of transportation - JetRail. JetRail uses Jet propulsion technology to run rails and move people at a high speed! The investment would only make sense, if they can get more than 1 Million monthly users with in next 18 months. In order to help Unicorn Ventures in their decision, you need to forecast the traffic on JetRail for the next 7 months. You are provided with traffic data of JetRail since inception in the test file."
      ]
    },
    {
      "cell_type": "markdown",
      "metadata": {
        "id": "h4MWpGBeJqBL",
        "colab_type": "text"
      },
      "source": [
        "### Understanding Data:\n",
        "\n",
        "1) Hypothesis Generation\n",
        "\n",
        "**Hypothesis Generation** is the process of listing out all the possible factors that can affect the outcome.\n",
        "\n",
        "Hypothesis generation is done before having a look at the data in order to avoid any bias that may result after the observation.\n",
        "\n",
        "下面是作者的一些假设：\n",
        "1. There will be an increase in the traffic as the years pass by.\n",
        "2. The traffic will be high from May to October.\n",
        "3. Traffic on weekdays will be more as compared to weekends/holidays.\n",
        "4. Traffic during the peak hours will be high.\n",
        "\n",
        "2) Getting the system ready and loading the data\n",
        "\n",
        "\n"
      ]
    },
    {
      "cell_type": "code",
      "metadata": {
        "id": "bAkt7BVrMPtR",
        "colab_type": "code",
        "colab": {}
      },
      "source": [
        "import pandas as pd          \n",
        "import numpy as np          # For mathematical calculations \n",
        "import matplotlib.pyplot as plt  # For plotting graphs \n",
        "from datetime import datetime    # To access datetime \n",
        "from pandas import Series        # To work on series \n",
        "%matplotlib inline \n",
        "import warnings                  # To ignore the warnings warnings.filterwarnings(\"ignore\")\n",
        "\n",
        "# read the train and test data\n",
        "# using github file < 25 MB\n",
        "\n",
        "test_url = 'https://raw.githubusercontent.com/KunXie/myColab/master/dataset/Test_0qrQsBZ.csv'\n",
        "train_url = 'https://raw.githubusercontent.com/KunXie/myColab/master/dataset/Train_SU63ISt.csv'\n",
        "\n",
        "train = pd.read_csv(train_url)\n",
        "test = pd.read_csv(test_url)\n",
        "\n",
        "# make a copy in order not to alter the original dataset\n",
        "train_original=train.copy() \n",
        "test_original=test.copy()"
      ],
      "execution_count": 0,
      "outputs": []
    },
    {
      "cell_type": "markdown",
      "metadata": {
        "id": "NelWRxnsNiWm",
        "colab_type": "text"
      },
      "source": [
        "3) Dataset Structure and Content\n"
      ]
    },
    {
      "cell_type": "code",
      "metadata": {
        "id": "nvBkuY7KNmos",
        "colab_type": "code",
        "outputId": "0f9d9516-a32f-4d5c-bd49-9e86fdc6e34d",
        "colab": {
          "base_uri": "https://localhost:8080/",
          "height": 51
        }
      },
      "source": [
        "train.columns, test.columns"
      ],
      "execution_count": 0,
      "outputs": [
        {
          "output_type": "execute_result",
          "data": {
            "text/plain": [
              "(Index(['ID', 'Datetime', 'Count'], dtype='object'),\n",
              " Index(['ID', 'Datetime'], dtype='object'))"
            ]
          },
          "metadata": {
            "tags": []
          },
          "execution_count": 15
        }
      ]
    },
    {
      "cell_type": "code",
      "metadata": {
        "id": "Q8rHCoNyOexO",
        "colab_type": "code",
        "outputId": "49365650-c092-44f7-f7bc-b6c70240304d",
        "colab": {
          "base_uri": "https://localhost:8080/",
          "height": 164
        }
      },
      "source": [
        "train.dtypes, test.dtypes"
      ],
      "execution_count": 0,
      "outputs": [
        {
          "output_type": "error",
          "ename": "NameError",
          "evalue": "ignored",
          "traceback": [
            "\u001b[0;31m---------------------------------------------------------------------------\u001b[0m",
            "\u001b[0;31mNameError\u001b[0m                                 Traceback (most recent call last)",
            "\u001b[0;32m<ipython-input-1-c97e42b21641>\u001b[0m in \u001b[0;36m<module>\u001b[0;34m()\u001b[0m\n\u001b[0;32m----> 1\u001b[0;31m \u001b[0mtrain\u001b[0m\u001b[0;34m.\u001b[0m\u001b[0mdtypes\u001b[0m\u001b[0;34m,\u001b[0m \u001b[0mtest\u001b[0m\u001b[0;34m.\u001b[0m\u001b[0mdtypes\u001b[0m\u001b[0;34m\u001b[0m\u001b[0;34m\u001b[0m\u001b[0m\n\u001b[0m",
            "\u001b[0;31mNameError\u001b[0m: name 'train' is not defined"
          ]
        }
      ]
    },
    {
      "cell_type": "markdown",
      "metadata": {
        "id": "CznNIXVAMXVU",
        "colab_type": "text"
      },
      "source": [
        "    \n",
        "    4) Feature Extraction\n",
        "    5) Exploratory Analysis\n",
        "\n",
        "### Forecasting using Multiple Modeling Techniques:\n",
        "\n",
        "    1) Splitting the data into training and validation part\n",
        "    2) Modeling techniques\n",
        "    3) Holt’s Linear Trend Model on daily time series\n",
        "    4) Holt Winter’s Model on daily time series\n",
        "    5) Introduction to ARIMA model\n",
        "    6) Parameter tuning for ARIMA model\n",
        "    7) SARIMAX model on daily time series"
      ]
    }
  ]
}